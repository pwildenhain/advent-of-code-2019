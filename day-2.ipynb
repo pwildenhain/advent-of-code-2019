{
 "cells": [
  {
   "cell_type": "markdown",
   "metadata": {},
   "source": [
    "# Day 1\n",
    "\n",
    "On my trip around the moon, the gravity assist program failed, and I need to figure out what happened to make it work again\n",
    "\n",
    "\n",
    "# Part 1\n",
    "\n",
    "Given the intcode, restore the gravity assist program to the \"1202 program alarm\" state it had just before the last computer caught fire, by building a working intcode computer"
   ]
  },
  {
   "cell_type": "code",
   "execution_count": 1,
   "metadata": {},
   "outputs": [],
   "source": [
    "import math\n",
    "from typing import List"
   ]
  },
  {
   "cell_type": "code",
   "execution_count": 2,
   "metadata": {},
   "outputs": [],
   "source": [
    "current_intcode = [1,0,0,3,1,1,2,3,1,3,4,3,1,5,0,3,2,9,1,19,1,19,6,23,2,6,23,27,2,27,9,31,1,5,31,35,1,35,10,39,2,39,9,43,1,5,43,47,2,47,10,51,1,51,6,55,1,5,55,59,2,6,59,63,2,63,6,67,1,5,67,71,1,71,9,75,2,75,10,79,1,79,5,83,1,10,83,87,1,5,87,91,2,13,91,95,1,95,10,99,2,99,13,103,1,103,5,107,1,107,13,111,2,111,9,115,1,6,115,119,2,119,6,123,1,123,6,127,1,127,9,131,1,6,131,135,1,135,2,139,1,139,10,0,99,2,0,14,0]"
   ]
  },
  {
   "cell_type": "code",
   "execution_count": 3,
   "metadata": {},
   "outputs": [],
   "source": [
    "original_intcode = [current_intcode[0]] + [12, 2] + current_intcode[3:]"
   ]
  },
  {
   "cell_type": "code",
   "execution_count": 4,
   "metadata": {},
   "outputs": [],
   "source": [
    "assert len(original_intcode) == len(current_intcode)"
   ]
  },
  {
   "cell_type": "code",
   "execution_count": 5,
   "metadata": {},
   "outputs": [],
   "source": [
    "def run_opcode(opcode: int, opcode_idx: int, intcode: List[int]) -> List[int]:\n",
    "    \"\"\"Given an optcode and it's index in the intcode, perform the operations on the intcode\"\"\"\n",
    "    intcode_idx_1 = intcode[opcode_idx + 1]\n",
    "    intcode_idx_2 = intcode[opcode_idx + 2]\n",
    "    intcode_replace_idx = intcode[opcode_idx + 3]\n",
    "    \n",
    "    if opcode == 1:\n",
    "        intcode[intcode_replace_idx] = intcode[intcode_idx_1] + intcode[intcode_idx_2]\n",
    "    if opcode == 2:\n",
    "        intcode[intcode_replace_idx] = intcode[intcode_idx_1] * intcode[intcode_idx_2]\n",
    "    \n",
    "    return intcode "
   ]
  },
  {
   "cell_type": "code",
   "execution_count": 6,
   "metadata": {},
   "outputs": [],
   "source": [
    "assert run_opcode(1, 0, [1,0,0,0,99]) == [2,0,0,0,99]\n",
    "assert run_opcode(2, 0, [2,3,0,3,99]) == [2,3,0,6,99]\n",
    "assert run_opcode(2, 0, [2,4,4,5,99,0]) == [2,4,4,5,99,9801]"
   ]
  },
  {
   "cell_type": "code",
   "execution_count": 7,
   "metadata": {},
   "outputs": [],
   "source": [
    "def run_intcode(intcode: List[int]) -> List[int]:\n",
    "    \"\"\"Keep running the optcodes in the intcode until 99 is reached\"\"\"\n",
    "    intcode = intcode.copy()\n",
    "    opcode_idx = 0\n",
    "    opcode = intcode[opcode_idx]\n",
    "    \n",
    "    while opcode != 99:\n",
    "        intcode = run_opcode(opcode, opcode_idx, intcode)\n",
    "        opcode_idx += 4\n",
    "        opcode = intcode[opcode_idx]\n",
    "    \n",
    "    return intcode"
   ]
  },
  {
   "cell_type": "code",
   "execution_count": 8,
   "metadata": {},
   "outputs": [],
   "source": [
    "assert run_intcode([1,0,0,0,99]) == [2,0,0,0,99]\n",
    "assert run_intcode([2,3,0,3,99]) == [2,3,0,6,99]\n",
    "assert run_intcode([2,4,4,5,99,0]) == [2,4,4,5,99,9801]\n",
    "assert run_intcode([1,1,1,4,99,5,6,0,99]) == [30,1,1,4,2,5,6,0,99]"
   ]
  },
  {
   "cell_type": "code",
   "execution_count": 9,
   "metadata": {},
   "outputs": [
    {
     "data": {
      "text/plain": [
       "6730673"
      ]
     },
     "execution_count": 9,
     "metadata": {},
     "output_type": "execute_result"
    }
   ],
   "source": [
    "# Figure out position 0 of the original intcode after it is \"compiled\"\n",
    "run_intcode(original_intcode)[0]"
   ]
  },
  {
   "cell_type": "markdown",
   "metadata": {},
   "source": [
    "# Part 2\n",
    "\n",
    "Time to brute force this sucker! Need to figure out which _noun_ and _verb_ (i.e `intcode[1]` and `intcode[2]`, respectively) produce the output (`intcode[0]`) of 19690720"
   ]
  },
  {
   "cell_type": "code",
   "execution_count": 10,
   "metadata": {},
   "outputs": [],
   "source": [
    "from itertools import permutations"
   ]
  },
  {
   "cell_type": "code",
   "execution_count": 11,
   "metadata": {},
   "outputs": [],
   "source": [
    "# Get all possible noun/verb combos for 0 to 99\n",
    "noun_verb_combos = list(permutations(range(100), r=2))"
   ]
  },
  {
   "cell_type": "code",
   "execution_count": 12,
   "metadata": {},
   "outputs": [
    {
     "data": {
      "text/plain": [
       "(37, 49)"
      ]
     },
     "execution_count": 12,
     "metadata": {},
     "output_type": "execute_result"
    }
   ],
   "source": [
    "idx = -1\n",
    "output = 0\n",
    "required_output = 19690720\n",
    "while output != required_output:\n",
    "    idx += 1\n",
    "    intcode = [current_intcode[0]] + list(noun_verb_combos[idx]) + current_intcode[3:]\n",
    "    output = run_intcode(intcode)[0]\n",
    "    \n",
    "noun_verb_combos[idx]   "
   ]
  },
  {
   "cell_type": "code",
   "execution_count": 13,
   "metadata": {},
   "outputs": [
    {
     "data": {
      "text/plain": [
       "3749"
      ]
     },
     "execution_count": 13,
     "metadata": {},
     "output_type": "execute_result"
    }
   ],
   "source": [
    "# Plug these numbers into the magic equation\n",
    "100 * noun_verb_combos[idx][0] + noun_verb_combos[idx][1]"
   ]
  }
 ],
 "metadata": {
  "kernelspec": {
   "display_name": "Python 3",
   "language": "python",
   "name": "python3"
  },
  "language_info": {
   "codemirror_mode": {
    "name": "ipython",
    "version": 3
   },
   "file_extension": ".py",
   "mimetype": "text/x-python",
   "name": "python",
   "nbconvert_exporter": "python",
   "pygments_lexer": "ipython3",
   "version": "3.6.4"
  }
 },
 "nbformat": 4,
 "nbformat_minor": 2
}
