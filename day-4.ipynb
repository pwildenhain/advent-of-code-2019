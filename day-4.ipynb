{
 "cells": [
  {
   "cell_type": "markdown",
   "metadata": {},
   "source": [
    "# Day 4\n",
    "\n",
    "I've landed at the venus depot, but the elves forgot the password! They do remember a few attributes about the password though\n",
    "\n",
    "## Part 1\n",
    "\n",
    "Given the input range, and the following restrictions, how many possible passwords are there?\n",
    "- It is a six-digit number.\n",
    "- The value is within the range given in your puzzle input.\n",
    "- Two adjacent digits are the same (like 22 in 122345).\n",
    "- Going from left to right, the digits never decrease; they only ever increase or stay the same (like 111123 or 135679)."
   ]
  },
  {
   "cell_type": "code",
   "execution_count": 1,
   "metadata": {},
   "outputs": [],
   "source": [
    "from typing import List"
   ]
  },
  {
   "cell_type": "code",
   "execution_count": 2,
   "metadata": {},
   "outputs": [],
   "source": [
    "# Puzzle input\n",
    "password_range = range(197487, 673251)"
   ]
  },
  {
   "cell_type": "code",
   "execution_count": 3,
   "metadata": {},
   "outputs": [],
   "source": [
    "def make_number_list(number: int) -> List[int]:\n",
    "    return [int(num) for num in str(number)]"
   ]
  },
  {
   "cell_type": "code",
   "execution_count": 4,
   "metadata": {},
   "outputs": [],
   "source": [
    "assert make_number_list(123456) == [1, 2, 3, 4, 5, 6]"
   ]
  },
  {
   "cell_type": "code",
   "execution_count": 5,
   "metadata": {},
   "outputs": [],
   "source": [
    "def number_has_two_adjacent_digits(number_list: List[int]) -> bool:\n",
    "    for num in range(6):\n",
    "        try:\n",
    "            if number_list[num] == number_list[num + 1]:\n",
    "                return True\n",
    "        except IndexError:\n",
    "            return False"
   ]
  },
  {
   "cell_type": "code",
   "execution_count": 6,
   "metadata": {},
   "outputs": [],
   "source": [
    "assert number_has_two_adjacent_digits([1, 2, 2, 4, 5, 6])\n",
    "assert number_has_two_adjacent_digits([1, 2, 3, 4, 5, 5])\n",
    "assert not number_has_two_adjacent_digits([1, 2, 3, 4, 5, 6])"
   ]
  },
  {
   "cell_type": "code",
   "execution_count": 7,
   "metadata": {},
   "outputs": [],
   "source": [
    "def digits_never_decrease(number_list: List[int]) -> bool:\n",
    "    for num in range(6):\n",
    "        try:\n",
    "            if number_list[num] > number_list[num + 1]:\n",
    "                return False\n",
    "        except IndexError:\n",
    "            return True"
   ]
  },
  {
   "cell_type": "code",
   "execution_count": 8,
   "metadata": {},
   "outputs": [],
   "source": [
    "assert digits_never_decrease([3, 4, 4, 5, 6, 6])\n",
    "assert digits_never_decrease([1, 1, 1, 1, 1, 1])\n",
    "assert not digits_never_decrease([6, 5, 4, 3, 2, 1])"
   ]
  },
  {
   "cell_type": "code",
   "execution_count": 9,
   "metadata": {},
   "outputs": [],
   "source": [
    "def number_meets_password_reqs(number: int) -> List[int]:\n",
    "    number_list = make_number_list(number)\n",
    "    return number_has_two_adjacent_digits(number_list) and digits_never_decrease(number_list)"
   ]
  },
  {
   "cell_type": "code",
   "execution_count": 10,
   "metadata": {},
   "outputs": [],
   "source": [
    "assert number_meets_password_reqs(234456)\n",
    "assert number_meets_password_reqs(111111)\n",
    "assert not number_meets_password_reqs(987656)"
   ]
  },
  {
   "cell_type": "code",
   "execution_count": 11,
   "metadata": {},
   "outputs": [],
   "source": [
    "possible_passwords = [number for number in password_range if number_meets_password_reqs(number)]"
   ]
  },
  {
   "cell_type": "code",
   "execution_count": 12,
   "metadata": {},
   "outputs": [
    {
     "data": {
      "text/plain": [
       "1640"
      ]
     },
     "execution_count": 12,
     "metadata": {},
     "output_type": "execute_result"
    }
   ],
   "source": [
    "len(possible_passwords)"
   ]
  },
  {
   "cell_type": "markdown",
   "metadata": {},
   "source": [
    "## Part 2\n",
    "\n",
    "An elf just remembered an important new criteria (of course)\n",
    "\n",
    "> the two adjacent matching digits are not part of a larger group of matching digits.\n",
    "\n",
    "This means that there must be **exactly** two adjacent matching digits within the password "
   ]
  },
  {
   "cell_type": "code",
   "execution_count": 13,
   "metadata": {},
   "outputs": [],
   "source": [
    "def exactly_two_adjacent_matching_digits(number: int) -> List[int]:\n",
    "    number_list = make_number_list(number)\n",
    "    exactly_two_of_number = [number_list.count(num) == 2 for num in number_list]\n",
    "    return any(exactly_two_of_number)"
   ]
  },
  {
   "cell_type": "code",
   "execution_count": 14,
   "metadata": {},
   "outputs": [],
   "source": [
    "assert exactly_two_adjacent_matching_digits(112233)\n",
    "assert exactly_two_adjacent_matching_digits(111122)\n",
    "assert not exactly_two_adjacent_matching_digits(123444)"
   ]
  },
  {
   "cell_type": "code",
   "execution_count": 15,
   "metadata": {},
   "outputs": [],
   "source": [
    "more_possible_passwords = [number for number in possible_passwords if exactly_two_adjacent_matching_digits(number)]"
   ]
  },
  {
   "cell_type": "code",
   "execution_count": 16,
   "metadata": {},
   "outputs": [
    {
     "data": {
      "text/plain": [
       "1126"
      ]
     },
     "execution_count": 16,
     "metadata": {},
     "output_type": "execute_result"
    }
   ],
   "source": [
    "# Doesn't really narrow down the options that much (%30 less). It's gonna be a long night\n",
    "len(more_possible_passwords)"
   ]
  }
 ],
 "metadata": {
  "kernelspec": {
   "display_name": "Python 3",
   "language": "python",
   "name": "python3"
  },
  "language_info": {
   "codemirror_mode": {
    "name": "ipython",
    "version": 3
   },
   "file_extension": ".py",
   "mimetype": "text/x-python",
   "name": "python",
   "nbconvert_exporter": "python",
   "pygments_lexer": "ipython3",
   "version": "3.6.4"
  }
 },
 "nbformat": 4,
 "nbformat_minor": 2
}
