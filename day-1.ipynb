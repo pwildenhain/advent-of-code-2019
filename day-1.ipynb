{
 "cells": [
  {
   "cell_type": "markdown",
   "metadata": {},
   "source": [
    "# Day 1\n",
    "Help the elves figure out the fuel requriments for rescuing Santa\n",
    "\n",
    "## Part 1\n",
    "\n",
    "We have a bunch of modules that we need to launch in order to rescue Santa. Based off their mass, they require a certain amount of fuel. Based off the module mass, figure out how much fuel it needs, and then sum it all together."
   ]
  },
  {
   "cell_type": "code",
   "execution_count": 21,
   "metadata": {},
   "outputs": [],
   "source": [
    "import math"
   ]
  },
  {
   "cell_type": "code",
   "execution_count": 12,
   "metadata": {},
   "outputs": [],
   "source": [
    "module_masses = [\n",
    "    56123,\n",
    "    145192,\n",
    "    123702,\n",
    "    66722,\n",
    "    148748,\n",
    "    53337,\n",
    "    147279,\n",
    "    126828,\n",
    "    118438,\n",
    "    54030,\n",
    "    145839,\n",
    "    87751,\n",
    "    58832,\n",
    "    90085,\n",
    "    113196,\n",
    "    104802,\n",
    "    61235,\n",
    "    136935,\n",
    "    108620,\n",
    "    60795,\n",
    "    107908,\n",
    "    123023,\n",
    "    142399,\n",
    "    131074,\n",
    "    123411,\n",
    "    122653,\n",
    "    84776,\n",
    "    100891,\n",
    "    78816,\n",
    "    62762,\n",
    "    92077,\n",
    "    91428,\n",
    "    56831,\n",
    "    65122,\n",
    "    94694,\n",
    "    78668,\n",
    "    112506,\n",
    "    73406,\n",
    "    118239,\n",
    "    57897,\n",
    "    59200,\n",
    "    54437,\n",
    "    55185,\n",
    "    102667,\n",
    "    86076,\n",
    "    80655,\n",
    "    83406,\n",
    "    141502,\n",
    "    67171,\n",
    "    88472,\n",
    "    149260,\n",
    "    68395,\n",
    "    56828,\n",
    "    108798,\n",
    "    125682,\n",
    "    68203,\n",
    "    118263,\n",
    "    101824,\n",
    "    94853,\n",
    "    68536,\n",
    "    95646,\n",
    "    120283,\n",
    "    135355,\n",
    "    82701,\n",
    "    92243,\n",
    "    122282,\n",
    "    55760,\n",
    "    129959,\n",
    "    142814,\n",
    "    56599,\n",
    "    70836,\n",
    "    69996,\n",
    "    85262,\n",
    "    126648,\n",
    "    69043,\n",
    "    67460,\n",
    "    119934,\n",
    "    82453,\n",
    "    147012,\n",
    "    72957,\n",
    "    53374,\n",
    "    97577,\n",
    "    59696,\n",
    "    121630,\n",
    "    122666,\n",
    "    116591,\n",
    "    145967,\n",
    "    75699,\n",
    "    85963,\n",
    "    140970,\n",
    "    75612,\n",
    "    78792,\n",
    "    100795,\n",
    "    92034,\n",
    "    132569,\n",
    "    117172,\n",
    "    134179,\n",
    "    109504,\n",
    "    103707,\n",
    "    54664,\n",
    "]"
   ]
  },
  {
   "cell_type": "code",
   "execution_count": 25,
   "metadata": {},
   "outputs": [],
   "source": [
    "module_fuel_reqs = [math.floor(module_mass / 3) - 2 for module_mass in module_masses]"
   ]
  },
  {
   "cell_type": "code",
   "execution_count": 26,
   "metadata": {},
   "outputs": [
    {
     "data": {
      "text/plain": [
       "3223398"
      ]
     },
     "execution_count": 26,
     "metadata": {},
     "output_type": "execute_result"
    }
   ],
   "source": [
    "sum(module_fuel_reqs)"
   ]
  },
  {
   "cell_type": "markdown",
   "metadata": {},
   "source": [
    "## Part 2\n",
    "Now we need to add more fuel, since the additional fuel added _even more_ mass. Use the same equation to figure out the **real** fuel number that we need "
   ]
  },
  {
   "cell_type": "code",
   "execution_count": 41,
   "metadata": {},
   "outputs": [],
   "source": [
    "# Wrap equation in a function for easy reading\n",
    "def calculate_fuel_req(mass):\n",
    "    return math.floor(mass / 3) - 2\n",
    "\n",
    "def calculate_module_fuel_req(module_mass):\n",
    "    fuel_req = calculate_fuel_req(module_mass)\n",
    "    if calculate_fuel_req(fuel_req) < 0:\n",
    "        return fuel_req\n",
    "    \n",
    "    module_fuel_req = 0\n",
    "    while fuel_req > 0:\n",
    "        module_fuel_req += fuel_req\n",
    "        fuel_req = calculate_fuel_req(fuel_req)\n",
    "    \n",
    "    return module_fuel_req"
   ]
  },
  {
   "cell_type": "code",
   "execution_count": 43,
   "metadata": {},
   "outputs": [],
   "source": [
    "assert calculate_module_fuel_req(14) == 2\n",
    "assert calculate_module_fuel_req(1969) == 966\n",
    "assert calculate_module_fuel_req(100756) == 50346"
   ]
  },
  {
   "cell_type": "code",
   "execution_count": 44,
   "metadata": {},
   "outputs": [],
   "source": [
    "# Redo the calculations from before\n",
    "module_fuel_reqs = [calculate_module_fuel_req(module_mass) for module_mass in module_masses]"
   ]
  },
  {
   "cell_type": "code",
   "execution_count": 45,
   "metadata": {},
   "outputs": [
    {
     "data": {
      "text/plain": [
       "4832253"
      ]
     },
     "execution_count": 45,
     "metadata": {},
     "output_type": "execute_result"
    }
   ],
   "source": [
    "sum(module_fuel_reqs)"
   ]
  }
 ],
 "metadata": {
  "kernelspec": {
   "display_name": "Python 3",
   "language": "python",
   "name": "python3"
  },
  "language_info": {
   "codemirror_mode": {
    "name": "ipython",
    "version": 3
   },
   "file_extension": ".py",
   "mimetype": "text/x-python",
   "name": "python",
   "nbconvert_exporter": "python",
   "pygments_lexer": "ipython3",
   "version": "3.6.4"
  }
 },
 "nbformat": 4,
 "nbformat_minor": 2
}
