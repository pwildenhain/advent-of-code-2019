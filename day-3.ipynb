{
 "cells": [
  {
   "cell_type": "markdown",
   "metadata": {},
   "source": [
    "# Day 3\n",
    "\n",
    "> During the rush back on Earth, the fuel management system wasn't completely installed, so that's next on the priority list.\n",
    "\n",
    "The wires are all crossed! And we need to find the crossing that occurs closest to the central port\n",
    "\n",
    "## Part 1\n",
    "\n",
    "> What is the Manhattan distance from the central port to the closest intersection?"
   ]
  },
  {
   "cell_type": "code",
   "execution_count": 1,
   "metadata": {},
   "outputs": [],
   "source": [
    "from typing import List"
   ]
  },
  {
   "cell_type": "code",
   "execution_count": 2,
   "metadata": {},
   "outputs": [],
   "source": [
    "# Puzzle Input\n",
    "with open(\"day-3-input.txt\") as file:\n",
    "    wire_paths = file.readlines()"
   ]
  },
  {
   "cell_type": "code",
   "execution_count": 3,
   "metadata": {},
   "outputs": [],
   "source": [
    "for wire_path in range(2):\n",
    "    wire_paths[wire_path] = [\n",
    "        (path[0], int(path[1:]))\n",
    "        for path in wire_paths[wire_path]\n",
    "        .strip(\"\\n\")\n",
    "        .split(\",\")\n",
    "    ]"
   ]
  },
  {
   "cell_type": "code",
   "execution_count": 4,
   "metadata": {},
   "outputs": [],
   "source": [
    "central_port_point = (0, 0)"
   ]
  },
  {
   "cell_type": "code",
   "execution_count": 5,
   "metadata": {},
   "outputs": [],
   "source": [
    "test_wire_paths = [\n",
    "    [('R', 8), ('U', 5), ('L', 5), ('D', 3)],\n",
    "    [('U', 7), ('R', 6), ('D', 4), ('L', 4)]\n",
    "]"
   ]
  },
  {
   "cell_type": "code",
   "execution_count": 6,
   "metadata": {},
   "outputs": [],
   "source": [
    "def draw_line_path(coord: tuple, point: tuple) -> List[tuple]:\n",
    "    \"\"\"Draw a path from one cartesian coordinate to a point,\n",
    "    return a list of every point passed along the way\n",
    "    \"\"\"\n",
    "    direction, value = point\n",
    "    # Choose x or y coordinate\n",
    "    side = 0 if direction in [\"R\", \"L\"] else 1\n",
    "    incr_or_decr = 1 if direction in {\"R\", \"U\"} else -1\n",
    "    line_path = []\n",
    "    coord = list(coord)\n",
    "    \n",
    "    for _ in range(value):\n",
    "        coord = coord.copy()\n",
    "        coord[side] += incr_or_decr\n",
    "        line_path.append(tuple(coord))\n",
    "    \n",
    "    return line_path        "
   ]
  },
  {
   "cell_type": "code",
   "execution_count": 7,
   "metadata": {},
   "outputs": [],
   "source": [
    "assert draw_line_path(central_port_point, test_wire_paths[0][0]) == [(1, 0), (2, 0), (3, 0), (4, 0), (5, 0), (6, 0), (7, 0), (8, 0), ]\n",
    "assert draw_line_path(central_port_point, test_wire_paths[0][1]) == [(0, 1), (0, 2), (0, 3), (0, 4), (0, 5)]\n",
    "assert draw_line_path(central_port_point, test_wire_paths[0][2]) == [(-1, 0), (-2, 0), (-3, 0), (-4, 0), (-5, 0)]\n",
    "assert draw_line_path(central_port_point, test_wire_paths[0][3]) == [(0, -1), (0, -2), (0, -3)]"
   ]
  },
  {
   "cell_type": "code",
   "execution_count": 8,
   "metadata": {},
   "outputs": [],
   "source": [
    "def draw_wire_path(central_port_point: tuple, wire_path: List[tuple]) -> List[tuple]:\n",
    "    \"\"\"Given a path for a wire to follow, record every point crossed along the way\"\"\"\n",
    "    central_port_point = list(central_port_point)\n",
    "    current_location = central_port_point.copy()\n",
    "    wire_path_trace = []\n",
    "    for direction in wire_path:\n",
    "        line_path = draw_line_path(current_location, direction)\n",
    "        wire_path_trace += line_path\n",
    "        current_location = line_path[-1]\n",
    "    \n",
    "    return wire_path_trace"
   ]
  },
  {
   "cell_type": "code",
   "execution_count": 9,
   "metadata": {},
   "outputs": [],
   "source": [
    "assert draw_wire_path(central_port_point, test_wire_paths[0]) == [\n",
    "    (1, 0),\n",
    "    (2, 0),\n",
    "    (3, 0),\n",
    "    (4, 0),\n",
    "    (5, 0),\n",
    "    (6, 0),\n",
    "    (7, 0),\n",
    "    (8, 0),\n",
    "    (8, 1),\n",
    "    (8, 2),\n",
    "    (8, 3),\n",
    "    (8, 4),\n",
    "    (8, 5),\n",
    "    (7, 5),\n",
    "    (6, 5),\n",
    "    (5, 5),\n",
    "    (4, 5),\n",
    "    (3, 5),\n",
    "    (3, 4),\n",
    "    (3, 3),\n",
    "    (3, 2)\n",
    "]"
   ]
  },
  {
   "cell_type": "code",
   "execution_count": 10,
   "metadata": {},
   "outputs": [],
   "source": [
    "assert draw_wire_path(central_port_point, test_wire_paths[1]) == [\n",
    "    (0, 1),\n",
    "    (0, 2),\n",
    "    (0, 3),\n",
    "    (0, 4),\n",
    "    (0, 5),\n",
    "    (0, 6),\n",
    "    (0, 7),\n",
    "    (1, 7),\n",
    "    (2, 7),\n",
    "    (3, 7),\n",
    "    (4, 7),\n",
    "    (5, 7),\n",
    "    (6, 7),\n",
    "    (6, 6),\n",
    "    (6, 5),\n",
    "    (6, 4),\n",
    "    (6, 3),\n",
    "    (5, 3),\n",
    "    (4, 3),\n",
    "    (3, 3),\n",
    "    (2, 3)\n",
    "]"
   ]
  },
  {
   "cell_type": "code",
   "execution_count": 11,
   "metadata": {},
   "outputs": [],
   "source": [
    "path_1 = draw_wire_path(central_port_point, wire_paths[0])"
   ]
  },
  {
   "cell_type": "code",
   "execution_count": 12,
   "metadata": {},
   "outputs": [],
   "source": [
    "path_2 = draw_wire_path(central_port_point, wire_paths[1])"
   ]
  },
  {
   "cell_type": "code",
   "execution_count": 13,
   "metadata": {},
   "outputs": [],
   "source": [
    "# Shamelessly stolen from 10yr old stackoverflow question: https://stackoverflow.com/questions/2864842/common-elements-comparison-between-2-lists#2864863\n",
    "intersections = list(set(path_1).intersection(path_2))"
   ]
  },
  {
   "cell_type": "code",
   "execution_count": 14,
   "metadata": {},
   "outputs": [
    {
     "data": {
      "text/plain": [
       "806"
      ]
     },
     "execution_count": 14,
     "metadata": {},
     "output_type": "execute_result"
    }
   ],
   "source": [
    "min([abs(point[0] - central_port_point[0]) + abs(point[1] - central_port_point[1]) for point in intersections])"
   ]
  },
  {
   "cell_type": "markdown",
   "metadata": {},
   "source": [
    "## Part 2\n",
    "\n",
    "Actually the wires are more time sensitive -- rather than just choosing the intersection _closest_ to the central port, we need the intersection with the fewest number of steps from both wires (so that the signal gets there faster)"
   ]
  },
  {
   "cell_type": "code",
   "execution_count": 15,
   "metadata": {},
   "outputs": [
    {
     "name": "stdout",
     "output_type": "stream",
     "text": [
      "66076\n"
     ]
    }
   ],
   "source": [
    "shortest_path = float(\"inf\")\n",
    "for point in intersections:\n",
    "    # Need to add two to account for indexing both lists at zero\n",
    "    # Remember this is Python, not R!\n",
    "    steps = path_1.index(point) + path_2.index(point) + 2\n",
    "    shortest_path = steps if steps < shortest_path else shortest_path\n",
    "\n",
    "print(shortest_path)"
   ]
  }
 ],
 "metadata": {
  "kernelspec": {
   "display_name": "Python 3",
   "language": "python",
   "name": "python3"
  },
  "language_info": {
   "codemirror_mode": {
    "name": "ipython",
    "version": 3
   },
   "file_extension": ".py",
   "mimetype": "text/x-python",
   "name": "python",
   "nbconvert_exporter": "python",
   "pygments_lexer": "ipython3",
   "version": "3.6.4"
  }
 },
 "nbformat": 4,
 "nbformat_minor": 2
}
