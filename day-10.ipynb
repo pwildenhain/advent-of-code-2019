{
 "cells": [
  {
   "cell_type": "markdown",
   "metadata": {},
   "source": [
    "# Day 10\n",
    "\n",
    "The elves are in the asteroid belt, and they can't track all the asteroids -- so they don't feel safe flying around\n",
    "\n",
    "## Part 1\n",
    "\n",
    "They need to build a new monitoring station on a new asteroid, and need help figuring out which asteroid is in the best position for placing the station -- which asteroid that can detect the largest number of asteroids. This means a line can be drawn between them, and there is not another asteroid blocking the way"
   ]
  },
  {
   "cell_type": "code",
   "execution_count": 43,
   "metadata": {},
   "outputs": [],
   "source": [
    "from math import gcd\n",
    "from typing import List"
   ]
  },
  {
   "cell_type": "code",
   "execution_count": 32,
   "metadata": {},
   "outputs": [],
   "source": [
    "class AsteroidBelt:\n",
    "    \n",
    "    def __init__(self, asteroid_map: str):\n",
    "        self.asteroid_map = [row for row in asteroid_map.split(\"\\n\")]\n",
    "        self.row_range = len(self.asteroid_map[0])\n",
    "        self.col_range = len(self.asteroid_map)\n",
    "        self.asteroid_coords = self.find_asteroids()\n",
    "        self.asteroid_coords.sort()\n",
    "        \n",
    "    def find_asteroids(self) -> List[list]:\n",
    "        \"\"\"Return coordinates of all asteroids in the belt\"\"\"\n",
    "        return [\n",
    "            [row, col]\n",
    "            for col in range(self.row_range)\n",
    "            for row in range(self.col_range)\n",
    "            if self.asteroid_map[row][col] == \"#\"\n",
    "        ]\n",
    "    \n",
    "    def get_blocked_points(self, origin: list, point: list) -> List[list]:\n",
    "        \"\"\"Given an origin asteroid and a new asteroid return\n",
    "        a list of blocked points on the map\n",
    "        \n",
    "        Examples:\n",
    "        > # For a 5x5 map\n",
    "        > self.get_blocked_points(origin=[2, 4], point=[2, 3])\n",
    "        > [[(2, 2], [2, 1], [2, 0]]\n",
    "        > self.get_blocked_points(origin=[4, 3], point=[2, 2])\n",
    "        > [[0, 1]]\n",
    "        \"\"\"\n",
    "        # Count a point as blocking itself, since an asteroid\n",
    "        # can't detect itself\n",
    "        if origin == point:\n",
    "            return [origin]\n",
    "        origin_row, origin_col = origin\n",
    "        point_row, point_col = point\n",
    "        \n",
    "        blocked_points = []\n",
    "        row_diff = point_row - origin_row\n",
    "        col_diff = point_col - origin_col\n",
    "        gcd_diff = gcd(row_diff, col_diff)\n",
    "        row_diff = int(row_diff / gcd_diff)\n",
    "        col_diff = int(col_diff / gcd_diff)\n",
    "\n",
    "        while True:\n",
    "            next_row = point_row + row_diff\n",
    "            next_col = point_col + col_diff\n",
    "            # Map ends at [0, 0]\n",
    "            if next_row < 0 or next_col < 0:\n",
    "                break\n",
    "            \n",
    "            try:\n",
    "                self.asteroid_map[next_row][next_col]\n",
    "            except IndexError:\n",
    "                break\n",
    "            \n",
    "            blocked_points.append([next_row, next_col])\n",
    "            point_row = next_row\n",
    "            point_col = next_col\n",
    "            \n",
    "        return blocked_points\n",
    "        \n",
    "    def get_detected_asteroids(self, origin: list) -> List[list]:\n",
    "        \"\"\"Return a list of detected asteroids from a point of\n",
    "        origin on the asteroid map\n",
    "        \"\"\"\n",
    "        blocked_asteroids = []\n",
    "        for asteroid in self.asteroid_coords:\n",
    "            blocked_points = self.get_blocked_points(origin, asteroid)\n",
    "            blocked_asteroids += [\n",
    "                point for point in blocked_points\n",
    "                if point in self.asteroid_coords\n",
    "                and point not in blocked_asteroids\n",
    "            ]\n",
    "        return [\n",
    "            asteroid for asteroid in self.asteroid_coords\n",
    "            if asteroid not in blocked_asteroids\n",
    "        ]\n",
    "    def determine_monitoring_station_location(self) -> List[list]:\n",
    "        best_detected_asteroid_count = 0\n",
    "        best_asteroid = []\n",
    "        for asteroid in self.asteroid_coords:\n",
    "            detected_asteroid_count = len(self.get_detected_asteroids(asteroid))\n",
    "            best_asteroid = asteroid if detected_asteroid_count > best_detected_asteroid_count else best_asteroid\n",
    "            best_detected_asteroid_count = detected_asteroid_count if detected_asteroid_count > best_detected_asteroid_count else best_detected_asteroid_count\n",
    "        return best_asteroid"
   ]
  },
  {
   "cell_type": "code",
   "execution_count": 33,
   "metadata": {},
   "outputs": [],
   "source": [
    "asteroid_map = \"\"\".#..#\n",
    ".....\n",
    "#####\n",
    "....#\n",
    "...##\"\"\""
   ]
  },
  {
   "cell_type": "code",
   "execution_count": 34,
   "metadata": {},
   "outputs": [],
   "source": [
    "asteroid_belt = AsteroidBelt(asteroid_map)\n",
    "assert len(asteroid_belt.asteroid_coords) == 10\n",
    "assert asteroid_belt.get_blocked_points([4, 3], [2, 2]) == [[0, 1]]\n",
    "assert asteroid_belt.get_blocked_points([2, 4], [2, 3]) == [[2, 2], [2, 1], [2, 0]]\n",
    "assert asteroid_belt.get_blocked_points([0, 0], [0, 0]) == [[0, 0]]\n",
    "assert asteroid_belt.get_detected_asteroids(origin=[2, 4]) == [[0, 1], [0, 4], [2, 3], [3, 4], [4, 3]]\n",
    "best_location = asteroid_belt.determine_monitoring_station_location()\n",
    "assert best_location == [4, 3]\n",
    "assert len(asteroid_belt.get_detected_asteroids(best_location)) == 8"
   ]
  },
  {
   "cell_type": "code",
   "execution_count": 35,
   "metadata": {},
   "outputs": [],
   "source": [
    "asteroid_map = \"\"\"......#.#.\n",
    "#..#.#....\n",
    "..#######.\n",
    ".#.#.###..\n",
    ".#..#.....\n",
    "..#....#.#\n",
    "#..#....#.\n",
    ".##.#..###\n",
    "##...#..#.\n",
    ".#....####\"\"\""
   ]
  },
  {
   "cell_type": "code",
   "execution_count": 36,
   "metadata": {},
   "outputs": [],
   "source": [
    "asteroid_belt = AsteroidBelt(asteroid_map)\n",
    "best_location = asteroid_belt.determine_monitoring_station_location()\n",
    "assert best_location == [8, 5]\n",
    "assert len(asteroid_belt.get_detected_asteroids(best_location)) == 33"
   ]
  },
  {
   "cell_type": "code",
   "execution_count": 37,
   "metadata": {},
   "outputs": [],
   "source": [
    "asteroid_map = \"\"\"#.#...#.#.\n",
    ".###....#.\n",
    ".#....#...\n",
    "##.#.#.#.#\n",
    "....#.#.#.\n",
    ".##..###.#\n",
    "..#...##..\n",
    "..##....##\n",
    "......#...\n",
    ".####.###.\"\"\""
   ]
  },
  {
   "cell_type": "code",
   "execution_count": 38,
   "metadata": {},
   "outputs": [],
   "source": [
    "asteroid_belt = AsteroidBelt(asteroid_map)\n",
    "best_location = asteroid_belt.determine_monitoring_station_location()\n",
    "assert best_location == [2, 1]\n",
    "assert len(asteroid_belt.get_detected_asteroids(best_location)) == 35"
   ]
  },
  {
   "cell_type": "code",
   "execution_count": 39,
   "metadata": {},
   "outputs": [],
   "source": [
    "asteroid_map = \"\"\".#..#..###\n",
    "####.###.#\n",
    "....###.#.\n",
    "..###.##.#\n",
    "##.##.#.#.\n",
    "....###..#\n",
    "..#.#..#.#\n",
    "#..#.#.###\n",
    ".##...##.#\n",
    ".....#.#..\"\"\""
   ]
  },
  {
   "cell_type": "code",
   "execution_count": 42,
   "metadata": {},
   "outputs": [],
   "source": [
    "asteroid_belt = AsteroidBelt(asteroid_map)\n",
    "best_location = asteroid_belt.determine_monitoring_station_location()\n",
    "assert best_location == [3, 6]\n",
    "assert len(asteroid_belt.get_detected_asteroids(best_location)) == 41"
   ]
  },
  {
   "cell_type": "code",
   "execution_count": 45,
   "metadata": {},
   "outputs": [],
   "source": [
    "asteroid_map = \"\"\".#..##.###...#######\n",
    "##.############..##.\n",
    ".#.######.########.#\n",
    ".###.#######.####.#.\n",
    "#####.##.#.##.###.##\n",
    "..#####..#.#########\n",
    "####################\n",
    "#.####....###.#.#.##\n",
    "##.#################\n",
    "#####.##.###..####..\n",
    "..######..##.#######\n",
    "####.##.####...##..#\n",
    ".#####..#.######.###\n",
    "##...#.##########...\n",
    "#.##########.#######\n",
    ".####.#.###.###.#.##\n",
    "....##.##.###..#####\n",
    ".#.#.###########.###\n",
    "#.#.#.#####.####.###\n",
    "###.##.####.##.#..##\"\"\""
   ]
  },
  {
   "cell_type": "code",
   "execution_count": 46,
   "metadata": {},
   "outputs": [],
   "source": [
    "asteroid_belt = AsteroidBelt(asteroid_map)\n",
    "best_location = asteroid_belt.determine_monitoring_station_location()\n",
    "assert best_location == [13, 11]\n",
    "assert len(asteroid_belt.get_detected_asteroids(best_location)) == 210"
   ]
  },
  {
   "cell_type": "code",
   "execution_count": 47,
   "metadata": {},
   "outputs": [],
   "source": [
    "# Puzzle input\n",
    "asteroid_map = \"\"\".###..#......###..#...#\n",
    "#.#..#.##..###..#...#.#\n",
    "#.#.#.##.#..##.#.###.##\n",
    ".#..#...####.#.##..##..\n",
    "#.###.#.####.##.#######\n",
    "..#######..##..##.#.###\n",
    ".##.#...##.##.####..###\n",
    "....####.####.#########\n",
    "#.########.#...##.####.\n",
    ".#.#..#.#.#.#.##.###.##\n",
    "#..#.#..##...#..#.####.\n",
    ".###.#.#...###....###..\n",
    "###..#.###..###.#.###.#\n",
    "...###.##.#.##.#...#..#\n",
    "#......#.#.##..#...#.#.\n",
    "###.##.#..##...#..#.#.#\n",
    "###..###..##.##..##.###\n",
    "###.###.####....######.\n",
    ".###.#####.#.#.#.#####.\n",
    "##.#.###.###.##.##..##.\n",
    "##.#..#..#..#.####.#.#.\n",
    ".#.#.#.##.##########..#\n",
    "#####.##......#.#.####.\"\"\""
   ]
  },
  {
   "cell_type": "code",
   "execution_count": 48,
   "metadata": {},
   "outputs": [
    {
     "name": "stdout",
     "output_type": "stream",
     "text": [
      "[11, 19]\n",
      "230\n"
     ]
    }
   ],
   "source": [
    "asteroid_belt = AsteroidBelt(asteroid_map)\n",
    "best_location = asteroid_belt.determine_monitoring_station_location()\n",
    "print(best_location)\n",
    "print(len(asteroid_belt.get_detected_asteroids(best_location)))"
   ]
  },
  {
   "cell_type": "markdown",
   "metadata": {},
   "source": [
    "## Part 2\n",
    "\n",
    "Hooray, we have a monitoring station! But now, we need to clear _all_ the surrounding asteroids with the laser that the monitoring station is equipped with.\n",
    "\n",
    ">The Elves are placing bets on which will be the 200th asteroid to be vaporized. Win the bet by determining which asteroid that will be; what do you get if you multiply its X coordinate by 100 and then add its Y coordinate? (For example, 8,2 becomes 802.)\n",
    "\n",
    "For me, I'll have to remember to reverse the x and y coordinate"
   ]
  }
 ],
 "metadata": {
  "kernelspec": {
   "display_name": "Python 3",
   "language": "python",
   "name": "python3"
  },
  "language_info": {
   "codemirror_mode": {
    "name": "ipython",
    "version": 3
   },
   "file_extension": ".py",
   "mimetype": "text/x-python",
   "name": "python",
   "nbconvert_exporter": "python",
   "pygments_lexer": "ipython3",
   "version": "3.6.4"
  }
 },
 "nbformat": 4,
 "nbformat_minor": 2
}
