{
 "cells": [
  {
   "cell_type": "markdown",
   "metadata": {},
   "source": [
    "# Day 6\n",
    "\n",
    "Let's use a orbital map to help us use gravity to our advantage to find the quickest route to santa\n",
    "\n",
    "# Part 1\n",
    "\n",
    "First we need to validate the oribital map that we've been given before we can feel confident enough to use it -- let's find the total direct and indirect orbits in the orbital_map"
   ]
  },
  {
   "cell_type": "code",
   "execution_count": 32,
   "metadata": {},
   "outputs": [],
   "source": [
    "# orbital_map = [\n",
    "#     \"COM)B\\n\",\n",
    "#     \"B)C\\n\",\n",
    "#     \"C)D\\n\",\n",
    "#     \"D)E\\n\",\n",
    "#     \"E)F\\n\",\n",
    "#     \"B)G\\n\",\n",
    "#     \"G)H\\n\",\n",
    "#     \"D)I\\n\",\n",
    "#     \"E)J\\n\",\n",
    "#     \"J)K\\n\",\n",
    "#     \"K)L\\n\",\n",
    "#     \"K)YOU\\n\",\n",
    "#     \"I)SAN\\n\",\n",
    "# ]"
   ]
  },
  {
   "cell_type": "code",
   "execution_count": 57,
   "metadata": {},
   "outputs": [],
   "source": [
    "with open(\"day-6-input.txt\") as file:\n",
    "    orbital_map = file.readlines()"
   ]
  },
  {
   "cell_type": "code",
   "execution_count": 58,
   "metadata": {},
   "outputs": [],
   "source": [
    "direct_orbital_dict = dict()\n",
    "\n",
    "for orbit in orbital_map:\n",
    "    value, key  = orbit.strip(\"\\n\").split(\")\")\n",
    "    if not direct_orbital_dict.get(key):\n",
    "        direct_orbital_dict[key] = value\n",
    "    else:\n",
    "        direct_orbital_dict[key] += value\n",
    "    "
   ]
  },
  {
   "cell_type": "code",
   "execution_count": 59,
   "metadata": {},
   "outputs": [],
   "source": [
    "def find_orbits(obj: str, direct_orbital_dict: dict) -> list:\n",
    "    orbit = direct_orbital_dict.get(obj)\n",
    "    if orbit:\n",
    "        return [orbit] + find_orbits(orbit, direct_orbital_dict)\n",
    "    else:\n",
    "        return []"
   ]
  },
  {
   "cell_type": "code",
   "execution_count": 60,
   "metadata": {},
   "outputs": [],
   "source": [
    "orbital_dict = dict()\n",
    "for orbit in direct_orbital_dict:\n",
    "    orbital_dict[orbit] = find_orbits(orbit, direct_orbital_dict)"
   ]
  },
  {
   "cell_type": "code",
   "execution_count": 61,
   "metadata": {},
   "outputs": [
    {
     "data": {
      "text/plain": [
       "194721"
      ]
     },
     "execution_count": 61,
     "metadata": {},
     "output_type": "execute_result"
    }
   ],
   "source": [
    "total_orbits = 0\n",
    "for orbits in orbital_dict.values():\n",
    "    total_orbits += len(orbits)\n",
    "\n",
    "total_orbits"
   ]
  },
  {
   "cell_type": "markdown",
   "metadata": {},
   "source": [
    "## Part 2\n",
    "\n",
    "Now we have to figure out how many orbital transfers will be involved in traveling between `YOU` and `SAN`"
   ]
  },
  {
   "cell_type": "code",
   "execution_count": 62,
   "metadata": {},
   "outputs": [],
   "source": [
    "you_orbits = orbital_dict.get(\"YOU\")"
   ]
  },
  {
   "cell_type": "code",
   "execution_count": 63,
   "metadata": {},
   "outputs": [],
   "source": [
    "san_orbits = orbital_dict.get(\"SAN\")"
   ]
  },
  {
   "cell_type": "code",
   "execution_count": 64,
   "metadata": {},
   "outputs": [],
   "source": [
    "# Shamelessly stolen from 10yr old stackoverflow question: https://stackoverflow.com/questions/2864842/common-elements-comparison-between-2-lists#2864863\n",
    "intersections = list(set(you_orbits).intersection(san_orbits))"
   ]
  },
  {
   "cell_type": "code",
   "execution_count": 65,
   "metadata": {},
   "outputs": [
    {
     "data": {
      "text/plain": [
       "['1HN',\n",
       " 'RJM',\n",
       " '2CJ',\n",
       " 'X4Z',\n",
       " 'XFQ',\n",
       " 'KV6',\n",
       " 'KPK',\n",
       " 'RY2',\n",
       " '12V',\n",
       " '2R1',\n",
       " 'NBT',\n",
       " 'V6V',\n",
       " 'T83',\n",
       " 'R55',\n",
       " 'FDS',\n",
       " '1X7',\n",
       " '9SS',\n",
       " '3DC',\n",
       " '9CQ',\n",
       " 'PBT',\n",
       " 'B7X',\n",
       " 'JRP',\n",
       " '8HS',\n",
       " '12H',\n",
       " 'SRJ',\n",
       " 'DHZ',\n",
       " 'NFK',\n",
       " 'DFJ',\n",
       " 'LZ3',\n",
       " 'QDG',\n",
       " '261',\n",
       " 'Z24',\n",
       " 'R8T',\n",
       " 'SYM',\n",
       " '99M',\n",
       " 'TQS',\n",
       " '857',\n",
       " 'RN3',\n",
       " 'BSV',\n",
       " 'GYV',\n",
       " '6LG',\n",
       " 'ZTW',\n",
       " 'DY9',\n",
       " 'COM',\n",
       " 'WTS',\n",
       " 'RFG',\n",
       " 'CC3',\n",
       " 'FS2',\n",
       " 'BJ5',\n",
       " 'BL4',\n",
       " '12C',\n",
       " 'SXY',\n",
       " 'DY3',\n",
       " 'B4N',\n",
       " 'V99',\n",
       " 'BFG',\n",
       " '2VG',\n",
       " '77W',\n",
       " '8VP',\n",
       " 'N57',\n",
       " '9LV',\n",
       " 'MYS',\n",
       " 'HYB',\n",
       " '6DT',\n",
       " 'GSY',\n",
       " 'Z9Q',\n",
       " 'C13',\n",
       " 'MTZ',\n",
       " 'HSB',\n",
       " 'MDN']"
      ]
     },
     "execution_count": 65,
     "metadata": {},
     "output_type": "execute_result"
    }
   ],
   "source": [
    "intersections"
   ]
  },
  {
   "cell_type": "code",
   "execution_count": 66,
   "metadata": {},
   "outputs": [],
   "source": [
    "# Want orbits further from center of mass, since that will involve the \n",
    "# fewest connections\n",
    "max_orbits = 0\n",
    "best_intersection = \"\"\n",
    "for intersection in intersections:\n",
    "    num_orbits = len(orbital_dict.get(intersection, \"\"))\n",
    "    max_orbits = num_orbits if num_orbits > max_orbits else max_orbits\n",
    "    best_intersection = intersection if num_orbits == max_orbits else best_intersection"
   ]
  },
  {
   "cell_type": "code",
   "execution_count": 67,
   "metadata": {},
   "outputs": [
    {
     "data": {
      "text/plain": [
       "'SRJ'"
      ]
     },
     "execution_count": 67,
     "metadata": {},
     "output_type": "execute_result"
    }
   ],
   "source": [
    "best_intersection"
   ]
  },
  {
   "cell_type": "code",
   "execution_count": 68,
   "metadata": {},
   "outputs": [
    {
     "data": {
      "text/plain": [
       "316"
      ]
     },
     "execution_count": 68,
     "metadata": {},
     "output_type": "execute_result"
    }
   ],
   "source": [
    "san_orbits.index(best_intersection) + you_orbits.index(best_intersection)"
   ]
  }
 ],
 "metadata": {
  "kernelspec": {
   "display_name": "Python 3",
   "language": "python",
   "name": "python3"
  },
  "language_info": {
   "codemirror_mode": {
    "name": "ipython",
    "version": 3
   },
   "file_extension": ".py",
   "mimetype": "text/x-python",
   "name": "python",
   "nbconvert_exporter": "python",
   "pygments_lexer": "ipython3",
   "version": "3.6.4"
  }
 },
 "nbformat": 4,
 "nbformat_minor": 2
}
