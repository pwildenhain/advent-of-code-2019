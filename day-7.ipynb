{
 "cells": [
  {
   "cell_type": "markdown",
   "metadata": {},
   "source": [
    "# Day 7\n",
    "\n",
    "Full power to thrusters! We need to send the correct inputs to the correct amplifiers in order to get the maximum possible thruster output. The codes for the thruster will run on our existing intcode computer :grimace:\n",
    "\n",
    "\n",
    "# Part 1\n",
    "\n",
    "The elves don't remember which inputs go to which thrusters. So, given the thruster program, assign the inputs to the amplimfiers in such a way to produce the maximum thruster signal output"
   ]
  },
  {
   "cell_type": "code",
   "execution_count": 1,
   "metadata": {},
   "outputs": [],
   "source": [
    "import math\n",
    "\n",
    "from itertools import permutations\n",
    "from typing import Tuple, List, Union"
   ]
  },
  {
   "cell_type": "code",
   "execution_count": 9,
   "metadata": {},
   "outputs": [],
   "source": [
    "class Computer:\n",
    "    def __init__(self, memory: List[int], pointer: int = 0, inputs: List[int] = None):\n",
    "        self.memory = memory.copy()\n",
    "        self.pointer = pointer\n",
    "        self.inputs = inputs if inputs else []\n",
    "        self.outputs = []\n",
    "        self.complete = False\n",
    "        self.pointer_increment_dict = {1: 4, 2: 4, 3: 2, 4: 2, 5: 3, 6: 3, 7: 4, 8: 4}\n",
    "    \n",
    "    @staticmethod\n",
    "    def parse_opcode(opcode: int) -> Tuple[int]:\n",
    "        opcode_param_list = [int(num) for num in str(opcode).zfill(5)]\n",
    "        # Don't need the leading zero from the opcode\n",
    "        return tuple(opcode_param_list[:3] + opcode_param_list[4:])\n",
    "    \n",
    "    def get_output_positions(self, first_param_mode: int, second_param_mode: int) -> Tuple[int]:\n",
    "        first_output_position = self.pointer + 1 if first_param_mode == 1 else self.memory[self.pointer + 1]\n",
    "    \n",
    "        try:\n",
    "            second_output_position = self.pointer + 2 if second_param_mode == 1 else self.memory[self.pointer + 2]\n",
    "        except IndexError:\n",
    "            return (first_output_position, 0)\n",
    "\n",
    "        return (first_output_position, second_output_position)\n",
    "    \n",
    "    def run_instruction(self, opcode: int, debug: bool = False):\n",
    "        # Third param mode is always in position mode\n",
    "        _, second_param_mode, first_param_mode, opcode = self.parse_opcode(opcode)\n",
    "        first_output_position, second_output_position = self.get_output_positions(first_param_mode, second_param_mode)\n",
    "        \n",
    "        try:\n",
    "            replace_idx = self.memory[self.pointer + 3]\n",
    "        except IndexError:\n",
    "            pass\n",
    "\n",
    "        if opcode == 4:\n",
    "            if debug:\n",
    "                print(f\"Adding ouput: {self.memory[first_output_position]} to outputs: {self.outputs}\")\n",
    "            self.outputs += [self.memory[first_output_position]]\n",
    "        elif opcode == 5 and self.memory[first_output_position] != 0:\n",
    "            if debug:\n",
    "                print(f\"Setting address from {self.pointer} to {self.memory[second_output_position]}\")\n",
    "            self.pointer = self.memory[second_output_position]\n",
    "            # Early return so we don't change the pointer at the end of the fx\n",
    "            return\n",
    "        elif opcode == 6 and self.memory[first_output_position] == 0:\n",
    "            if debug:\n",
    "                print(f\"Setting address from {self.pointer} to {self.memory[second_output_position]}\")\n",
    "            self.pointer = self.memory[second_output_position]\n",
    "            # Early return so we don't change the pointer at the end of the fx\n",
    "            return\n",
    "\n",
    "        if opcode == 1:\n",
    "            if debug:\n",
    "                print(f\"Replacing {self.memory[replace_idx]} at address {replace_idx} with {self.memory[first_output_position] + self.memory[second_output_position]}\")\n",
    "            self.memory[replace_idx] = self.memory[first_output_position] + self.memory[second_output_position]\n",
    "        elif opcode == 2:\n",
    "            if debug:\n",
    "                print(f\"Replacing {self.memory[replace_idx]} at address {replace_idx} with {self.memory[first_output_position] * self.memory[second_output_position]}\")\n",
    "            self.memory[replace_idx] = self.memory[first_output_position] * self.memory[second_output_position]\n",
    "        elif opcode == 3:\n",
    "            if debug:\n",
    "                print(f\"Using next input from: {self.inputs}\")\n",
    "            computer_input = self.inputs.pop(0)\n",
    "            if debug:\n",
    "                print(f\"Replacing {self.memory[first_output_position]} at {first_output_position} with {computer_input}\")\n",
    "            self.memory[first_output_position] = computer_input\n",
    "        elif opcode == 7:\n",
    "            replacement = 1 if self.memory[first_output_position] < self.memory[second_output_position] else 0\n",
    "            if debug:\n",
    "                print(f\"Replacing {self.memory[replace_idx]} at address {replace_idx} with {replacement}\")\n",
    "            self.memory[replace_idx] = replacement\n",
    "        elif opcode == 8:\n",
    "            replacement = 1 if self.memory[first_output_position] == self.memory[second_output_position] else 0\n",
    "            if debug:\n",
    "                print(f\"Replacing {self.memory[replace_idx]} at address {replace_idx} with {replacement}\")\n",
    "            self.memory[replace_idx] = replacement\n",
    "        \n",
    "        if debug:\n",
    "            print(f\"Setting address from {self.pointer} to {self.pointer + self.pointer_increment_dict.get(opcode)}\")\n",
    "        # Increment pointer\n",
    "        self.pointer += self.pointer_increment_dict.get(opcode)\n",
    "    \n",
    "    def run_program(self, debug=False):\n",
    "        while not self.complete:\n",
    "            opcode = self.memory[self.pointer]\n",
    "            if debug:\n",
    "                print(f\"opcode: {opcode} at address: {self.pointer}\")\n",
    "                print(f\"memory before instruction: {self.memory}\")\n",
    "            \n",
    "            if opcode == 99:\n",
    "                self.complete = True\n",
    "            elif str(opcode).endswith(\"3\") and not self.inputs:\n",
    "                if debug:\n",
    "                    print(f\"No more inputs, exiting\")\n",
    "                break\n",
    "            else:\n",
    "                self.run_instruction(opcode, debug)\n",
    "            \n",
    "            if debug:\n",
    "                print(f\"memory after instruction: {self.memory}\")\n",
    "            \n",
    "            \n",
    "        "
   ]
  },
  {
   "cell_type": "code",
   "execution_count": 10,
   "metadata": {},
   "outputs": [],
   "source": [
    "# Make sure that intcode computer refactoring works with this\n",
    "# Had to refactor to account for multiple 3 opcodes within an intcode program\n",
    "# Also had to refactor to account for 4 opcode is allowed to spit out non zero output before end of \"test\"\n",
    "# I think this has to do with the fact that we're not running tests anymore\n",
    "program = [3,15,3,16,1002,16,10,16,1,16,15,15,4,15,99,0,0]\n",
    "computer = Computer(program, inputs=[4, 0]) \n",
    "computer.run_program()\n",
    "assert computer.outputs == [4]\n",
    "computer = Computer(program, inputs=[3, 4]) \n",
    "computer.run_program()\n",
    "assert computer.outputs == [43]\n",
    "computer = Computer(program, inputs=[2, 43]) \n",
    "computer.run_program()\n",
    "assert computer.outputs == [432]\n",
    "computer = Computer(program, inputs=[1, 432]) \n",
    "computer.run_program()\n",
    "assert computer.outputs == [4321]\n",
    "computer = Computer(program, inputs=[0, 4321]) \n",
    "computer.run_program()\n",
    "assert computer.outputs == [43210]"
   ]
  },
  {
   "cell_type": "code",
   "execution_count": 36,
   "metadata": {},
   "outputs": [],
   "source": [
    "class Amp:\n",
    "    def __init__(self, program: List[int], setting: int, input_signal: int = 0):\n",
    "        self.computer = Computer(program)\n",
    "        self.setting = setting\n",
    "        # Add setting when we start\n",
    "        self.computer.inputs += [setting]\n",
    "        self.input_signal = input_signal\n",
    "    \n",
    "    def produce_output_signal(self, debug: bool =  False) -> int:\n",
    "        if debug:\n",
    "            print(f\"---Running amp with setting: {self.setting} and input signal: {self.input_signal}\")\n",
    "        self.computer.inputs += [self.input_signal]\n",
    "        self.computer.run_program(debug)\n",
    "        output_signal = self.computer.outputs[-1]\n",
    "        if debug:\n",
    "            print(f\"---Producing output signal {output_signal}\")\n",
    "        return output_signal"
   ]
  },
  {
   "cell_type": "code",
   "execution_count": 37,
   "metadata": {},
   "outputs": [],
   "source": [
    "program_1 = [3,15,3,16,1002,16,10,16,1,16,15,15,4,15,99,0,0]\n",
    "amp_a1 = Amp(program_1, setting=4)\n",
    "assert amp_a1.produce_output_signal() == 4\n",
    "amp_b1 = Amp(program_1, setting=3, input_signal=4)\n",
    "assert amp_b1.produce_output_signal() == 43\n",
    "program_2 = [3,23,3,24,1002,24,10,24,1002,23,-1,23,101,5,23,23,1,24,23,23,4,23,99,0,0]\n",
    "amp_a2 = Amp(program_2, setting=0)\n",
    "assert amp_a2.produce_output_signal() == 5\n",
    "amp_b2 = Amp(program_2, setting=1, input_signal=5)\n",
    "assert amp_b2.produce_output_signal() == 54"
   ]
  },
  {
   "cell_type": "code",
   "execution_count": 38,
   "metadata": {},
   "outputs": [],
   "source": [
    "class Thruster:\n",
    "    def __init__(self, program: List[int], amp_settings: tuple):\n",
    "        self.amps = [Amp(program, setting) for setting in amp_settings]\n",
    "    \n",
    "    def produce_direct_output_signal(self, initial_signal: int = 0, debug: bool = False) -> int:\n",
    "        output_signal = initial_signal\n",
    "        for amp in self.amps:\n",
    "            amp.input_signal = output_signal\n",
    "            if debug:\n",
    "                print(\"*****Begin Amp Run*****\")\n",
    "            output_signal = amp.produce_output_signal(debug)\n",
    "            if debug:\n",
    "                print(\"*****End Amp Run*****\")\n",
    "            # Adding this gives me the right answer for the tests, but then makes the actual input run forever\n",
    "            # Not adding produces answers that are too small for both the tests and the actual input\n",
    "            #amp.computer.pointer = 0\n",
    "        return output_signal\n",
    "    \n",
    "    def produce_looped_output_signal(self, initial_signal: int = 0, debug: bool = False) -> int:\n",
    "        output_signal = initial_signal\n",
    "        while not self.amps[-1].computer.complete:\n",
    "            output_signal = self.produce_direct_output_signal(output_signal, debug)\n",
    "        return output_signal\n",
    "            "
   ]
  },
  {
   "cell_type": "code",
   "execution_count": 39,
   "metadata": {},
   "outputs": [],
   "source": [
    "program_1 = [3,15,3,16,1002,16,10,16,1,16,15,15,4,15,99,0,0]\n",
    "program_1_settings = (4,3,2,1,0)\n",
    "thruster_1 = Thruster(program_1, program_1_settings)\n",
    "assert thruster_1.produce_direct_output_signal() == 43210\n",
    "program_2 = [3,23,3,24,1002,24,10,24,1002,23,-1,23,101,5,23,23,1,24,23,23,4,23,99,0,0]\n",
    "program_2_settings = (0,1,2,3,4)\n",
    "thruster_2 = Thruster(program_2, program_2_settings)\n",
    "assert thruster_2.produce_direct_output_signal() == 54321\n",
    "program_3 = [3,31,3,32,1002,32,10,32,1001,31,-2,31,1007,31,0,33,1002,33,7,33,1,33,31,31,1,32,31,31,4,31,99,0,0,0]\n",
    "program_3_settings = (1,0,4,3,2)\n",
    "thruster_3 = Thruster(program_3, program_3_settings)\n",
    "assert thruster_3.produce_direct_output_signal() == 65210"
   ]
  },
  {
   "cell_type": "code",
   "execution_count": 40,
   "metadata": {},
   "outputs": [
    {
     "name": "stdout",
     "output_type": "stream",
     "text": [
      "19650\n"
     ]
    }
   ],
   "source": [
    "all_possible_settings = permutations((0, 1, 2, 3, 4))\n",
    "thruster_program = [3,8,1001,8,10,8,105,1,0,0,21,46,59,84,93,110,191,272,353,434,99999,3,9,101,2,9,9,102,3,9,9,1001,9,5,9,102,4,9,9,1001,9,4,9,4,9,99,3,9,101,3,9,9,102,5,9,9,4,9,99,3,9,1001,9,4,9,1002,9,2,9,101,2,9,9,102,2,9,9,1001,9,3,9,4,9,99,3,9,1002,9,2,9,4,9,99,3,9,102,2,9,9,1001,9,5,9,1002,9,3,9,4,9,99,3,9,102,2,9,9,4,9,3,9,102,2,9,9,4,9,3,9,102,2,9,9,4,9,3,9,102,2,9,9,4,9,3,9,101,1,9,9,4,9,3,9,102,2,9,9,4,9,3,9,101,2,9,9,4,9,3,9,101,2,9,9,4,9,3,9,1001,9,1,9,4,9,3,9,101,2,9,9,4,9,99,3,9,102,2,9,9,4,9,3,9,1002,9,2,9,4,9,3,9,1002,9,2,9,4,9,3,9,1001,9,1,9,4,9,3,9,1001,9,2,9,4,9,3,9,101,1,9,9,4,9,3,9,1001,9,2,9,4,9,3,9,1002,9,2,9,4,9,3,9,1001,9,1,9,4,9,3,9,1001,9,2,9,4,9,99,3,9,101,1,9,9,4,9,3,9,1001,9,1,9,4,9,3,9,101,1,9,9,4,9,3,9,101,1,9,9,4,9,3,9,1002,9,2,9,4,9,3,9,1002,9,2,9,4,9,3,9,1002,9,2,9,4,9,3,9,1001,9,1,9,4,9,3,9,102,2,9,9,4,9,3,9,101,1,9,9,4,9,99,3,9,1001,9,1,9,4,9,3,9,102,2,9,9,4,9,3,9,101,1,9,9,4,9,3,9,1002,9,2,9,4,9,3,9,1001,9,2,9,4,9,3,9,101,1,9,9,4,9,3,9,1002,9,2,9,4,9,3,9,1002,9,2,9,4,9,3,9,1001,9,1,9,4,9,3,9,102,2,9,9,4,9,99,3,9,102,2,9,9,4,9,3,9,1002,9,2,9,4,9,3,9,1002,9,2,9,4,9,3,9,1001,9,1,9,4,9,3,9,101,1,9,9,4,9,3,9,102,2,9,9,4,9,3,9,1002,9,2,9,4,9,3,9,101,2,9,9,4,9,3,9,1002,9,2,9,4,9,3,9,1001,9,2,9,4,9,99]\n",
    "max_output_signal = -float(\"inf\")\n",
    "\n",
    "for amp_settings in all_possible_settings:\n",
    "    thruster = Thruster(thruster_program, amp_settings)\n",
    "    output_signal = thruster.produce_direct_output_signal()\n",
    "    max_output_signal = output_signal if output_signal > max_output_signal else max_output_signal\n",
    "    \n",
    "print(max_output_signal)"
   ]
  },
  {
   "cell_type": "markdown",
   "metadata": {},
   "source": [
    "# Part 2\n",
    "\n",
    "It's not enough juice to get the thrusters going :cry: But we can't give up, Santa is counting on us! The elves talked me through rewiring the amplifiers into a feedback loop -- now we can start cooking!"
   ]
  },
  {
   "cell_type": "code",
   "execution_count": 42,
   "metadata": {},
   "outputs": [],
   "source": [
    "thruster_program = [3,26,1001,26,-4,26,3,27,1002,27,2,27,1,27,26,27,4,27,1001,28,-1,28,1005,28,6,99,0,0,5]\n",
    "amplifier_settings =(9, 8, 7, 6, 5)\n",
    "thruster = Thruster(thruster_program, amplifier_settings)\n",
    "assert thruster.produce_looped_output_signal() == 139629729\n",
    "\n",
    "thruster_program = [3,52,1001,52,-5,52,3,53,1,52,56,54,1007,54,5,55,1005,55,26,1001,54,-5,54,1105,1,12,1,53,54,53,1008,54,0,55,1001,55,1,55,2,53,55,53,4,53,1001,56,-1,56,1005,56,6,99,0,0,0,0,10]\n",
    "amplifier_settings = (9, 7, 8, 5, 6)\n",
    "thruster = Thruster(thruster_program, amplifier_settings)\n",
    "assert thruster.produce_looped_output_signal() == 18216"
   ]
  },
  {
   "cell_type": "code",
   "execution_count": 44,
   "metadata": {},
   "outputs": [
    {
     "name": "stdout",
     "output_type": "stream",
     "text": [
      "35961106\n"
     ]
    }
   ],
   "source": [
    "all_possible_settings = permutations((5, 6, 7, 8, 9))\n",
    "thruster_program = [3,8,1001,8,10,8,105,1,0,0,21,46,59,84,93,110,191,272,353,434,99999,3,9,101,2,9,9,102,3,9,9,1001,9,5,9,102,4,9,9,1001,9,4,9,4,9,99,3,9,101,3,9,9,102,5,9,9,4,9,99,3,9,1001,9,4,9,1002,9,2,9,101,2,9,9,102,2,9,9,1001,9,3,9,4,9,99,3,9,1002,9,2,9,4,9,99,3,9,102,2,9,9,1001,9,5,9,1002,9,3,9,4,9,99,3,9,102,2,9,9,4,9,3,9,102,2,9,9,4,9,3,9,102,2,9,9,4,9,3,9,102,2,9,9,4,9,3,9,101,1,9,9,4,9,3,9,102,2,9,9,4,9,3,9,101,2,9,9,4,9,3,9,101,2,9,9,4,9,3,9,1001,9,1,9,4,9,3,9,101,2,9,9,4,9,99,3,9,102,2,9,9,4,9,3,9,1002,9,2,9,4,9,3,9,1002,9,2,9,4,9,3,9,1001,9,1,9,4,9,3,9,1001,9,2,9,4,9,3,9,101,1,9,9,4,9,3,9,1001,9,2,9,4,9,3,9,1002,9,2,9,4,9,3,9,1001,9,1,9,4,9,3,9,1001,9,2,9,4,9,99,3,9,101,1,9,9,4,9,3,9,1001,9,1,9,4,9,3,9,101,1,9,9,4,9,3,9,101,1,9,9,4,9,3,9,1002,9,2,9,4,9,3,9,1002,9,2,9,4,9,3,9,1002,9,2,9,4,9,3,9,1001,9,1,9,4,9,3,9,102,2,9,9,4,9,3,9,101,1,9,9,4,9,99,3,9,1001,9,1,9,4,9,3,9,102,2,9,9,4,9,3,9,101,1,9,9,4,9,3,9,1002,9,2,9,4,9,3,9,1001,9,2,9,4,9,3,9,101,1,9,9,4,9,3,9,1002,9,2,9,4,9,3,9,1002,9,2,9,4,9,3,9,1001,9,1,9,4,9,3,9,102,2,9,9,4,9,99,3,9,102,2,9,9,4,9,3,9,1002,9,2,9,4,9,3,9,1002,9,2,9,4,9,3,9,1001,9,1,9,4,9,3,9,101,1,9,9,4,9,3,9,102,2,9,9,4,9,3,9,1002,9,2,9,4,9,3,9,101,2,9,9,4,9,3,9,1002,9,2,9,4,9,3,9,1001,9,2,9,4,9,99]\n",
    "max_output_signal = -float(\"inf\")\n",
    "\n",
    "for amplifier_settings in all_possible_settings:\n",
    "    thruster = Thruster(thruster_program, amplifier_settings)\n",
    "    output_signal = thruster.produce_looped_output_signal()\n",
    "    max_output_signal = output_signal if output_signal > max_output_signal else max_output_signal\n",
    "    \n",
    "print(max_output_signal)"
   ]
  }
 ],
 "metadata": {
  "kernelspec": {
   "display_name": "Python 3",
   "language": "python",
   "name": "python3"
  },
  "language_info": {
   "codemirror_mode": {
    "name": "ipython",
    "version": 3
   },
   "file_extension": ".py",
   "mimetype": "text/x-python",
   "name": "python",
   "nbconvert_exporter": "python",
   "pygments_lexer": "ipython3",
   "version": "3.6.4"
  }
 },
 "nbformat": 4,
 "nbformat_minor": 2
}
